{
 "cells": [
  {
   "cell_type": "code",
   "execution_count": 1,
   "metadata": {},
   "outputs": [
    {
     "name": "stdout",
     "output_type": "stream",
     "text": [
      "The accuracy is 70.58823529411765 %.\n"
     ]
    }
   ],
   "source": [
    "#require textblob\n",
    "#reference:https://textblob.readthedocs.io/en/dev/classifiers.html#data-files\n",
    "#NaiveBayes\n",
    "from textblob.classifiers import NaiveBayesClassifier\n",
    "\n",
    "train_csv = open(\"train_nba.csv\")\n",
    "cl_NB = NaiveBayesClassifier(train_csv, format=\"csv\")\n",
    "\n",
    "test_csv = open(\"test_nba.csv\")\n",
    "acc = cl_NB.accuracy(test_csv, format=\"csv\") * 100\n",
    "print(\"The accuracy is\", acc, \"%.\")"
   ]
  },
  {
   "cell_type": "code",
   "execution_count": 2,
   "metadata": {},
   "outputs": [
    {
     "name": "stdout",
     "output_type": "stream",
     "text": [
      "The classifier reviewed 10 headlines.\n",
      "There are 5 postive headlines.\n",
      "The percentage of the postive is: 50.0 %.\n"
     ]
    }
   ],
   "source": [
    "#Run the trained classifier on new data.\n",
    "\n",
    "import csv\n",
    "line_r = 0\n",
    "line_w = 0\n",
    "senti_list = []\n",
    "\n",
    "with open('try.csv', mode='r') as csv_file:\n",
    "    reader = csv.DictReader(csv_file)\n",
    "    fieldnames = ['string', 'senti']\n",
    "    writer = csv.DictWriter(csv_file, fieldnames=fieldnames)\n",
    "    for row in reader:\n",
    "        senti_list.append(cl_NB.classify(row[\"string\"]))\n",
    "        line_r +=1\n",
    "        \n",
    "from collections import Counter\n",
    "counts = Counter(senti_list)\n",
    "pos = counts['pos']        \n",
    "pos_per = (pos / line_r) * 100\n",
    "print (\"The classifier reviewed\", line_r ,\"headlines.\")\n",
    "print (\"There are\", pos,\"postive headlines.\")\n",
    "print (\"The percentage of the postive is:\", pos_per,\"%.\")"
   ]
  },
  {
   "cell_type": "code",
   "execution_count": 7,
   "metadata": {},
   "outputs": [
    {
     "data": {
      "text/html": [
       "<div>\n",
       "<style scoped>\n",
       "    .dataframe tbody tr th:only-of-type {\n",
       "        vertical-align: middle;\n",
       "    }\n",
       "\n",
       "    .dataframe tbody tr th {\n",
       "        vertical-align: top;\n",
       "    }\n",
       "\n",
       "    .dataframe thead th {\n",
       "        text-align: right;\n",
       "    }\n",
       "</style>\n",
       "<table border=\"1\" class=\"dataframe\">\n",
       "  <thead>\n",
       "    <tr style=\"text-align: right;\">\n",
       "      <th></th>\n",
       "      <th>string</th>\n",
       "      <th>senti</th>\n",
       "    </tr>\n",
       "  </thead>\n",
       "  <tbody>\n",
       "    <tr>\n",
       "      <th>0</th>\n",
       "      <td>LeBron James: Heat Star Statistically Most Clu...</td>\n",
       "      <td>pos</td>\n",
       "    </tr>\n",
       "    <tr>\n",
       "      <th>1</th>\n",
       "      <td>Does NBA Finals Loss Harm Tim Duncan's Legacy?</td>\n",
       "      <td>neg</td>\n",
       "    </tr>\n",
       "    <tr>\n",
       "      <th>2</th>\n",
       "      <td>Kevin Durant, Thunder at risk of elimination</td>\n",
       "      <td>neg</td>\n",
       "    </tr>\n",
       "    <tr>\n",
       "      <th>3</th>\n",
       "      <td>Kevin Durant earns first ejection of his caree...</td>\n",
       "      <td>neg</td>\n",
       "    </tr>\n",
       "    <tr>\n",
       "      <th>4</th>\n",
       "      <td>Kevin Durant fined for throat-slash gesture af...</td>\n",
       "      <td>neg</td>\n",
       "    </tr>\n",
       "    <tr>\n",
       "      <th>5</th>\n",
       "      <td>Blake Griffin, Clippers go dunk-crazy, blast u...</td>\n",
       "      <td>pos</td>\n",
       "    </tr>\n",
       "    <tr>\n",
       "      <th>6</th>\n",
       "      <td>Zach Randolph named 2013 Western Conference Al...</td>\n",
       "      <td>pos</td>\n",
       "    </tr>\n",
       "    <tr>\n",
       "      <th>7</th>\n",
       "      <td>Chris Paul flops, is in so much imaginary peril</td>\n",
       "      <td>neg</td>\n",
       "    </tr>\n",
       "    <tr>\n",
       "      <th>8</th>\n",
       "      <td>Blake Griffin gets alley-oop off between-the-l...</td>\n",
       "      <td>pos</td>\n",
       "    </tr>\n",
       "    <tr>\n",
       "      <th>9</th>\n",
       "      <td>Curry, Thompson become NBA's most prolific thr...</td>\n",
       "      <td>pos</td>\n",
       "    </tr>\n",
       "  </tbody>\n",
       "</table>\n",
       "</div>"
      ],
      "text/plain": [
       "                                              string senti\n",
       "0  LeBron James: Heat Star Statistically Most Clu...   pos\n",
       "1     Does NBA Finals Loss Harm Tim Duncan's Legacy?   neg\n",
       "2       Kevin Durant, Thunder at risk of elimination   neg\n",
       "3  Kevin Durant earns first ejection of his caree...   neg\n",
       "4  Kevin Durant fined for throat-slash gesture af...   neg\n",
       "5  Blake Griffin, Clippers go dunk-crazy, blast u...   pos\n",
       "6  Zach Randolph named 2013 Western Conference Al...   pos\n",
       "7    Chris Paul flops, is in so much imaginary peril   neg\n",
       "8  Blake Griffin gets alley-oop off between-the-l...   pos\n",
       "9  Curry, Thompson become NBA's most prolific thr...   pos"
      ]
     },
     "execution_count": 7,
     "metadata": {},
     "output_type": "execute_result"
    }
   ],
   "source": [
    "#Add Label to data.\n",
    "\n",
    "import pandas as pd \n",
    "df = pd.read_csv('try.csv')\n",
    "df['senti'] = senti_list\n",
    "df.head(10)"
   ]
  },
  {
   "cell_type": "code",
   "execution_count": 9,
   "metadata": {},
   "outputs": [],
   "source": [
    "#Export the data and classifier.\n",
    "\n",
    "export_csv = df.to_csv (r'try_new.csv', index = None, header=True)\n",
    "\n",
    "import _pickle as pickle\n",
    "object = cl_NB\n",
    "file = open('cl_NB.pickle','wb')\n",
    "pickle.dump(object,file)"
   ]
  }
 ],
 "metadata": {
  "kernelspec": {
   "display_name": "Python 3",
   "language": "python",
   "name": "python3"
  },
  "language_info": {
   "codemirror_mode": {
    "name": "ipython",
    "version": 3
   },
   "file_extension": ".py",
   "mimetype": "text/x-python",
   "name": "python",
   "nbconvert_exporter": "python",
   "pygments_lexer": "ipython3",
   "version": "3.7.3"
  }
 },
 "nbformat": 4,
 "nbformat_minor": 2
}
